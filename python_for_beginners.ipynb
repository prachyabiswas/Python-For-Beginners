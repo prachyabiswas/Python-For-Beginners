{
  "nbformat": 4,
  "nbformat_minor": 0,
  "metadata": {
    "colab": {
      "provenance": []
    },
    "kernelspec": {
      "name": "python3",
      "display_name": "Python 3"
    },
    "language_info": {
      "name": "python"
    }
  },
  "cells": [
    {
      "cell_type": "code",
      "execution_count": 3,
      "metadata": {
        "colab": {
          "base_uri": "https://localhost:8080/"
        },
        "id": "KUKS9oGrcxks",
        "outputId": "ca2766f1-8b52-429b-d774-233e81060354"
      },
      "outputs": [
        {
          "output_type": "stream",
          "name": "stdout",
          "text": [
            "12\n"
          ]
        }
      ],
      "source": [
        "#In Python, print() is used to show output on the screen, just like how your calculator shows results. It tells the computer: \"Hey! Show this value to the user.\"\n",
        "print(12)\n"
      ]
    },
    {
      "cell_type": "code",
      "source": [
        "a = 12 #Store a value in a variable\n",
        "print(a) #Print the variable’s value\n"
      ],
      "metadata": {
        "colab": {
          "base_uri": "https://localhost:8080/"
        },
        "id": "EUNnlEIhdzWz",
        "outputId": "c89fc34e-af1e-49d7-8cc3-12e6f317de82"
      },
      "execution_count": 2,
      "outputs": [
        {
          "output_type": "stream",
          "name": "stdout",
          "text": [
            "12\n"
          ]
        }
      ]
    },
    {
      "cell_type": "code",
      "source": [
        "#The type() method in Python is used to find out the type of a value or variable. It tells us what kind of data something is, like whether it’s a string, integer, float, or another data type.\n",
        "x = 4\n",
        "print(type(x)) #Print the data type of the variable x\n"
      ],
      "metadata": {
        "colab": {
          "base_uri": "https://localhost:8080/"
        },
        "id": "QGDajekP2cFC",
        "outputId": "29453f29-737e-4eba-9d32-b5a63802e367"
      },
      "execution_count": 7,
      "outputs": [
        {
          "output_type": "stream",
          "name": "stdout",
          "text": [
            "<class 'int'>\n"
          ]
        }
      ]
    },
    {
      "cell_type": "code",
      "source": [
        "#String Type\n",
        "name = \"My name is Prachya\"\n",
        "print(name)  #This tells us that name is of type str (string).\n"
      ],
      "metadata": {
        "colab": {
          "base_uri": "https://localhost:8080/"
        },
        "id": "6pcCtYfm3wHn",
        "outputId": "4eee0629-580f-4615-c8a1-369a46d04c7e"
      },
      "execution_count": 11,
      "outputs": [
        {
          "output_type": "stream",
          "name": "stdout",
          "text": [
            "My name is Prachya\n"
          ]
        }
      ]
    },
    {
      "cell_type": "code",
      "source": [
        "#Python has two basic types for working with numbers:1.Integer (int)  2.Float (float)\n",
        "print(type(-4))     #This tells you that -4 is an integer (int).\n",
        "print(type(3.14159))       #This tells you that 3.14159 is a float (float).\n",
        "\n"
      ],
      "metadata": {
        "colab": {
          "base_uri": "https://localhost:8080/"
        },
        "id": "6BDQP5P66gYG",
        "outputId": "1dbaa28c-bcba-4d12-afe5-80743085f946"
      },
      "execution_count": 9,
      "outputs": [
        {
          "output_type": "stream",
          "name": "stdout",
          "text": [
            "<class 'int'>\n",
            "<class 'float'>\n"
          ]
        }
      ]
    },
    {
      "cell_type": "code",
      "source": [
        "#Boolean Type\n",
        "print(8 > 4)  # Output will be True\n",
        "print(3 == 5) # Output will be False\n"
      ],
      "metadata": {
        "colab": {
          "base_uri": "https://localhost:8080/"
        },
        "id": "Qekp1oxY66ck",
        "outputId": "31ffff7c-b56b-4a67-c86b-3d5fa6b8727b"
      },
      "execution_count": 10,
      "outputs": [
        {
          "output_type": "stream",
          "name": "stdout",
          "text": [
            "True\n",
            "False\n"
          ]
        }
      ]
    },
    {
      "cell_type": "code",
      "source": [
        "# Sequence Types in Python:\n",
        "#In Python, sequences are collections of ordered elements. Three key sequence types are: 1.String (str)   2.List  3.Tuple\n",
        "#String (str): A string is a sequence of ordered characters.\n",
        "car = \"BMW M760Li xDrive\"\n",
        "print(car)  # Output:BMW M760Li xDrive\n",
        "(type(car))  # Output: str"
      ],
      "metadata": {
        "colab": {
          "base_uri": "https://localhost:8080/"
        },
        "id": "A7Qtehbb8ZbP",
        "outputId": "c9363dc9-b7d7-4075-f154-df7750dcf2f9"
      },
      "execution_count": 22,
      "outputs": [
        {
          "output_type": "stream",
          "name": "stdout",
          "text": [
            "BMW M760Li xDrive\n"
          ]
        },
        {
          "output_type": "execute_result",
          "data": {
            "text/plain": [
              "str"
            ]
          },
          "metadata": {},
          "execution_count": 22
        }
      ]
    },
    {
      "cell_type": "code",
      "source": [
        "# List:A list is an ordered collection of elements that can be of different types.\n",
        "car = [\"BMW M760Li xDrive\", 180000, 6.6, True]\n",
        "print(car)  # Output: ['BMW M760Li xDrive', 180000, 6.6, True]\n",
        "print(type(car)) #Output: 'list'\n"
      ],
      "metadata": {
        "colab": {
          "base_uri": "https://localhost:8080/"
        },
        "id": "p5PYhg_h9h97",
        "outputId": "d8fed7eb-9204-4f43-978b-b23f2358531f"
      },
      "execution_count": 17,
      "outputs": [
        {
          "output_type": "stream",
          "name": "stdout",
          "text": [
            "['BMW M760Li xDrive', 180000, 6.6, True]\n",
            "<class 'list'>\n"
          ]
        }
      ]
    },
    {
      "cell_type": "code",
      "source": [
        "#Tuple:A tuple is like a list, but it is immutable.\n",
        "car = (\"BMW M760Li xDrive\", 180000, 6.6, True)\n",
        "print(car)  # Output: ('BMW M760Li xDrive', 180000, 6.6, True)\n",
        "print(type(car))  # Output: 'tuple'"
      ],
      "metadata": {
        "colab": {
          "base_uri": "https://localhost:8080/"
        },
        "id": "ndi-WEw5-LSA",
        "outputId": "ab1a444f-ffc9-477b-92a5-1b99ce93aed8"
      },
      "execution_count": 21,
      "outputs": [
        {
          "output_type": "stream",
          "name": "stdout",
          "text": [
            "('BMW M760Li xDrive', 180000, 6.6, True)\n",
            "<class 'tuple'>\n"
          ]
        }
      ]
    },
    {
      "cell_type": "code",
      "source": [
        "#In Python, performing mathematical operations is very straightforward. You can use basic operators like    + for addition,   - for subtraction,   * for multiplication,   and / for division.\n",
        "# Addition in Python:\n",
        "a = 16\n",
        "b = 28  # OFF TOPIC: 28 is my best friend's birthday date hehe.\n",
        "\n",
        "# Perform some operations, like addition:\n",
        "result = a + b\n",
        "print(\"The sum of a and b is:\", result)\n"
      ],
      "metadata": {
        "colab": {
          "base_uri": "https://localhost:8080/"
        },
        "id": "-NfVvfiG_2yY",
        "outputId": "919c87be-c567-4596-aca8-3730a1efe22c"
      },
      "execution_count": 25,
      "outputs": [
        {
          "output_type": "stream",
          "name": "stdout",
          "text": [
            "The sum of a and b is: 44\n"
          ]
        }
      ]
    },
    {
      "cell_type": "code",
      "source": [
        "# Subtraction in Python:\n",
        "a = 16\n",
        "b = 28\n",
        "subtraction = a - b\n",
        "print('Subtraction is:', subtraction)\n"
      ],
      "metadata": {
        "colab": {
          "base_uri": "https://localhost:8080/"
        },
        "id": "rPtmpO8LB50Q",
        "outputId": "36b55407-66f4-4155-cc03-c4d831fd0eda"
      },
      "execution_count": 31,
      "outputs": [
        {
          "output_type": "stream",
          "name": "stdout",
          "text": [
            "Subtraction is: -12\n"
          ]
        }
      ]
    },
    {
      "cell_type": "code",
      "source": [
        "# Multiplication in Python:\n",
        "a = 16\n",
        "b = 28\n",
        "multiplication = a * b\n",
        "print(\"Multiplication is:\", multiplication)\n"
      ],
      "metadata": {
        "colab": {
          "base_uri": "https://localhost:8080/"
        },
        "id": "yhjoSRKIDTlR",
        "outputId": "9e698949-ce27-461e-f904-48b602120c5b"
      },
      "execution_count": 30,
      "outputs": [
        {
          "output_type": "stream",
          "name": "stdout",
          "text": [
            "Multiplication is: 448\n"
          ]
        }
      ]
    },
    {
      "cell_type": "code",
      "source": [
        "# Division in Python:\n",
        "a = 16\n",
        "b = 28\n",
        "division = a / b\n",
        "print('Division is:', division)\n"
      ],
      "metadata": {
        "colab": {
          "base_uri": "https://localhost:8080/"
        },
        "id": "zl6pZLr9DaxX",
        "outputId": "32f4d133-4583-41a1-cede-2f6139aad40a"
      },
      "execution_count": 29,
      "outputs": [
        {
          "output_type": "stream",
          "name": "stdout",
          "text": [
            "Division is: 0.5714285714285714\n"
          ]
        }
      ]
    },
    {
      "cell_type": "code",
      "source": [
        "#Input() function:\n",
        "#The input() function asks the user to type something into the program.\n",
        "#No matter what the user types (numbers, words, etc.), Python automatically treats the input as a string.\n",
        "\n",
        "number_1 = input(\"Hello, please enter your first number: \")\n",
        "number_2 = input(\"Hello, please enter your second number: \")\n",
        "\n",
        "print(number_1)\n",
        "print(type(number_1))    #input() always returns a string, even if the user types numbers.\n",
        "print(number_2)\n",
        "print(type(number_2))    #input() always returns a string, even if the user types numbers.\n"
      ],
      "metadata": {
        "colab": {
          "base_uri": "https://localhost:8080/"
        },
        "id": "uixW6lgPEjw9",
        "outputId": "fa636a02-6fc9-4f35-e6fb-ba8e582f442b"
      },
      "execution_count": 35,
      "outputs": [
        {
          "output_type": "stream",
          "name": "stdout",
          "text": [
            "Hello, please enter your first number: 24121043\n",
            "Hello, please enter your second number: 24101016\n",
            "24121043\n",
            "<class 'str'>\n",
            "24101016\n",
            "<class 'str'>\n"
          ]
        }
      ]
    },
    {
      "cell_type": "code",
      "source": [
        "#Casting:Casting in Python is the process of converting a variable from one data type to another, allowing the use of specific operations on the data.\n",
        "\n",
        "age_input = input(\"Enter your age: \")  # User enters \"25\" (string)\n",
        "age = int(age_input)  # Casting the string to an integer\n",
        "new_age = age + 5  # Perform arithmetic operation\n",
        "print(\"In 5 years, you will be:\", new_age)  # Outputs 30\n"
      ],
      "metadata": {
        "colab": {
          "base_uri": "https://localhost:8080/"
        },
        "id": "eEI8kadKFabB",
        "outputId": "3eb51a9f-752e-43f4-d0c9-af6fd1bde2a8"
      },
      "execution_count": 37,
      "outputs": [
        {
          "output_type": "stream",
          "name": "stdout",
          "text": [
            "Enter your age: 25\n",
            "In 5 years, you will be: 30\n"
          ]
        }
      ]
    }
  ]
}